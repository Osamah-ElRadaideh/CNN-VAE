{
 "cells": [
  {
   "cell_type": "code",
   "execution_count": 1,
   "id": "179e089f-63f5-4608-b64b-9e9612651e8b",
   "metadata": {},
   "outputs": [],
   "source": [
    "import torch\n",
    "import torch.nn as nn\n",
    "import torch.nn.functional as F"
   ]
  },
  {
   "cell_type": "code",
   "execution_count": 27,
   "id": "84292815-3a94-44fb-8ed1-4abba27c2185",
   "metadata": {},
   "outputs": [],
   "source": [
    "class down_block(nn.Module):\n",
    "    def __init__(self, in_channels, out_channels, kernel_size=4, stride=2,act='relu'):\n",
    "        super().__init__()\n",
    "        assert act.lower() in ['relu', 'none'], f'act must be either relu or none, got {act} instead'\n",
    "        self.act = act\n",
    "        self.conv = nn.Conv2d(in_channels, out_channels, kernel_size=kernel_size, stride=stride)\n",
    "        self.bn = nn.BatchNorm2d(out_channels)\n",
    "        self.relu = nn.LeakyReLU(inplace=True, negative_slope=0.2)\n",
    "    def forward(self, x):\n",
    "        x = self.conv(x)\n",
    "        x = self.bn(x)\n",
    "        if self.act =='relu':\n",
    "            return(self.relu(x))\n",
    "        else:\n",
    "            return x \n",
    "\n",
    "        \n",
    "class up_block(nn.Module):\n",
    "    def __init__(self, in_channels, out_channels, kernel_size=4, stride=2,act='relu', padding=0):\n",
    "        super().__init__()\n",
    "        assert act.lower() in ['relu', 'sigmoid'], f'act must be either relu or sigmoid, got {act} instead'\n",
    "        self.act = act\n",
    "        self.conv = nn.ConvTranspose2d(in_channels, out_channels, kernel_size=kernel_size, stride=stride, output_padding=padding)\n",
    "        self.bn = nn.BatchNorm2d(out_channels)\n",
    "        self.relu = nn.LeakyReLU(inplace=True, negative_slope=0.2)\n",
    "        self.sigmoid = nn.Sigmoid()\n",
    "    def forward(self, x):\n",
    "        x = self.conv(x)\n",
    "        # x = self.bn(x)\n",
    "        if self.act =='relu':\n",
    "            return(self.relu(x))\n",
    "        else:\n",
    "            # return x \n",
    "            return(self.sigmoid(x))        \n",
    "        \n",
    "\n",
    "\n",
    "class Encoder(nn.Module):\n",
    "    def __init__(self, channel_size=64, in_channels = 3) :\n",
    "        super().__init__()\n",
    "        self.conv1 = down_block(in_channels, channel_size)\n",
    "        self.conv2 = down_block(channel_size, 2 * channel_size)\n",
    "        self.conv3 = down_block(2 * channel_size, 4 * channel_size)\n",
    "        self.conv4 = down_block(4 * channel_size, 8 * channel_size)\n",
    "    def forward(self, x):\n",
    "        x = self.conv1(x)\n",
    "        x = self.conv2(x)\n",
    "        x = self.conv3(x)\n",
    "        return self.conv4(x)\n",
    "    \n",
    "class Decoder(nn.Module):\n",
    "    def __init__(self,channel_size=512, out_channels=3):\n",
    "        super().__init__()\n",
    "        self.conv1 = up_block(channel_size, channel_size // 2)\n",
    "        self.conv2 = up_block(channel_size // 2, channel_size // 4)\n",
    "        self.conv3 = up_block(channel_size // 4, channel_size // 8, padding=1)\n",
    "        self.conv4 = up_block(channel_size // 8, out_channels)\n",
    "    def forward(self, x):\n",
    "        x = self.conv1(x)\n",
    "        x = self.conv2(x)\n",
    "        x = self.conv3(x)\n",
    "        return self.conv4(x)"
   ]
  },
  {
   "cell_type": "code",
   "execution_count": 67,
   "id": "cdf43a33-6324-4469-b3fe-140e0b712921",
   "metadata": {},
   "outputs": [],
   "source": [
    "class VAE(nn.Module):\n",
    "    def __init__(self, channel_size=64, in_channels=3,  mu_dim=2048, var_dim=64):\n",
    "        super().__init__()\n",
    "        self.encoder = Encoder(channel_size, in_channels)\n",
    "        self.decoder = Decoder(channel_size * 8, in_channels)\n",
    "        self.fc1 = nn.Linear(mu_dim, var_dim)\n",
    "        self.fc2 = nn.Linear(mu_dim, var_dim)\n",
    "        self.fc3 = nn.Linear(var_dim, mu_dim)\n",
    "        self.flatten = nn.Flatten()\n",
    "        self.channel_size = channel_size\n",
    "    def rep(self, mu, var):\n",
    "        std = var.mul(0.5).exp_()\n",
    "        esp = torch.randn(*mu.size())\n",
    "        z = mu + std * esp\n",
    "        return z\n",
    "    def get_params(self, x):\n",
    "        x = self.flatten(x)\n",
    "        mu, var = self.fc1(x), self.fc2(x)\n",
    "        z = self.rep(mu, var)\n",
    "        return z, mu, var\n",
    "    \n",
    "    def encode(self, x):\n",
    "        encoded = self.encoder(x)\n",
    "        z, mu, var = self.get_params(encoded)\n",
    "        return z, mu, var\n",
    "    \n",
    "    def decode(self, x):\n",
    "        x = self.fc3(x)\n",
    "        x = x.view(x.shape[0], self.channel_size * 8, 2, 2) \n",
    "        x = self.decoder(x)\n",
    "        return z\n",
    "        \n",
    "        \n",
    "    def forward(self, x):\n",
    "        enc, mu, var = self.encode(x)\n",
    "        dec = self.decode(enc)\n",
    "        return dec, mu, var"
   ]
  },
  {
   "cell_type": "code",
   "execution_count": 68,
   "id": "9d86c79b-d7ee-41e1-aab4-3ee34e0d6373",
   "metadata": {},
   "outputs": [],
   "source": [
    "z = torch.randn(16, 3, 64, 64)"
   ]
  },
  {
   "cell_type": "code",
   "execution_count": 69,
   "id": "faf433b1-431c-48d6-b30d-542112188626",
   "metadata": {},
   "outputs": [],
   "source": [
    "model = VAE()"
   ]
  },
  {
   "cell_type": "code",
   "execution_count": 70,
   "id": "d33893be-04e9-4eae-9fb9-820ee3fcbb8d",
   "metadata": {},
   "outputs": [],
   "source": [
    "dec, mu, var = model(z)"
   ]
  },
  {
   "cell_type": "code",
   "execution_count": 75,
   "id": "5c556060-7569-48d5-a16e-5461905174ed",
   "metadata": {},
   "outputs": [],
   "source": [
    "def vae_loss(decoded, orig, mu, var):\n",
    "    BCE = F.binary_cross_entropy(decoded, orig, size_average=False)\n",
    "\n",
    "    KLD = -0.5 * torch.mean(1 + var - mu.pow(2) - var.exp())\n",
    "\n",
    "    return BCE + KLD, BCE, KLD"
   ]
  },
  {
   "cell_type": "code",
   "execution_count": null,
   "id": "4ec47647-9bfd-479e-9873-8ef5bbb9fd2d",
   "metadata": {},
   "outputs": [],
   "source": []
  }
 ],
 "metadata": {
  "kernelspec": {
   "display_name": "Python 3 (ipykernel)",
   "language": "python",
   "name": "python3"
  },
  "language_info": {
   "codemirror_mode": {
    "name": "ipython",
    "version": 3
   },
   "file_extension": ".py",
   "mimetype": "text/x-python",
   "name": "python",
   "nbconvert_exporter": "python",
   "pygments_lexer": "ipython3",
   "version": "3.8.10"
  }
 },
 "nbformat": 4,
 "nbformat_minor": 5
}
